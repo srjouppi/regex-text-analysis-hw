{
 "cells": [
  {
   "cell_type": "markdown",
   "metadata": {},
   "source": [
    "## homework 4.1: investigating lists and dictionaries using functions\n",
    "\n",
    "In this assignment I will ask you to pick five relatively short texts (poems, paragraphs, short essays, song lyrics, whatever interests you). The main thing is to make sure that each text is around 10 - 20 lines or sentences long. Below, I have selected five poems by Wallace Stevens. In each cell I have made a variable that contains each poem, and then I pass that poem through a function called `text_to_dict` that makes a dictionary for each poem. The dictionary contains the title of the poem, the full text as one string, and a list that contains each line of the poem. The function will also make lists of sentences instead of lines if you want to investigate a prose text (sentence by sentence) instead of a poem (line by line).\n",
    "\n",
    "There are two parts of this assignment. \n",
    "\n",
    "**Part 1**, which should be easy, is to replace the poems with texts of your own choice--and choose to split them by lines or sentences. \n",
    "\n",
    "**Part 2** is to write functions that and investigate your texts. If you want to focus on the functions first, you can go straight to Part 2 and use the poems I have chosen. You can then go back and enter your own texts--your functions should work no matter what text you've chosen.\n"
   ]
  },
  {
   "cell_type": "code",
   "execution_count": 2,
   "metadata": {},
   "outputs": [],
   "source": [
    "#Run this cell toImport regular expressions\n",
    "#And to initialize the all texts list that will contain all of your dictionaries of text\n",
    "import re\n",
    "all_texts = []"
   ]
  },
  {
   "cell_type": "markdown",
   "metadata": {},
   "source": [
    "** understanding the text_to_dict function**\n",
    "\n",
    "You don't have to completely understand this function to use it, but you do need to understand its parameters. It takes three parameters:\n",
    "* `title` is a string you need to write inside function's parameters\n",
    "* `text` is the variable that holds the entire text\n",
    "* `poem` True/False parameter --if it is true it will split your text by line (`\\n`) \n",
    " \tIf it is false it will split your text by sentence ('[.?!])\n",
    "\n",
    "If you look at the function you will see that it builds a dictionary with the following fields:\n",
    "* `title` is the title of the text\n",
    "* `text_as_string` is the full text as a string\n",
    "* `lines` is a list of lines or sentences\n",
    "\n",
    "It returns a dictionary with those fields."
   ]
  },
  {
   "cell_type": "code",
   "execution_count": 3,
   "metadata": {},
   "outputs": [],
   "source": [
    "def text_to_dict(title,text,poem):\n",
    "    dict_of_this_text = {}\n",
    "    dict_of_this_text['title'] = title\n",
    "    dict_of_this_text['text_as_string'] = text\n",
    "    if poem:\n",
    "        text_to_list = text.strip().split('\\n')\n",
    "    else:\n",
    "        text_to_list = re.split(r\"[.?!]\",text)\n",
    "    dict_of_this_text['lines'] = text_to_list\n",
    "    return dict_of_this_text\n"
   ]
  },
  {
   "cell_type": "code",
   "execution_count": 4,
   "metadata": {},
   "outputs": [],
   "source": [
    "#please note: the regular expression I am using to split by sentences\n",
    "#is highly flawed, it is borderline impossible to write a regular expression \n",
    "#that splits 100% perfectly by sentence, but feel free to use this."
   ]
  },
  {
   "cell_type": "markdown",
   "metadata": {},
   "source": [
    "## Part One\n",
    "\n",
    "The next five cells are exactly the same. They define five different texts, and then they pass each text through the `text_to_dict` function. And then they add the resulting dictionary to the all_texts list. \n",
    "\n",
    "In the five cells below enter your five selected texts.\n",
    "\n",
    "**You should do no coding at any point** until the very last cell before part two."
   ]
  },
  {
   "cell_type": "code",
   "execution_count": 5,
   "metadata": {},
   "outputs": [],
   "source": [
    "#To change the text, just put a new text between the quotation mark\n",
    "text0 = '''\n",
    "Now, our elites in politics and the media, they really want you to know that they care deeply about the Afghan people so much that they want to bring as many Afghans here to the United States as possible.\n",
    "And while it's certainly heart wrenching to see the needless suffering wherever it occurs in the world -- it's just awful, none of us want to see that.\n",
    "But why is it that most of the same people, we just saw on those clips, and all these politicians, all the people who are going on and on everybody in the country, why do they so often ignore the very real suffering happening here at home?\n",
    "You don't have to go to the Afghan provinces near Bagram to see human tragedy. \n",
    "You can see it not far from here in Baltimore. \n",
    "And the last three weeks, five teenagers have been shot there, two of them fatally. \n",
    "One 15- year-old was gunned down in the street in broad daylight. \n",
    "You don't have to go to Kandahar to see thousands living in constant fear.\n",
    "You can go to Chicago to see that.\n",
    "16 were shot yesterday alone, including a seven year old boy who is sitting in the back of his mom's car.\n",
    "It's all horrifying, but we shouldn't be surprised.\n",
    "When the Taliban terrorizes Afghans, it's an Islamic fundamentalist extremist cult, after all, come on.\n",
    "But what's our excuse? \n",
    "Why aren't we more shocked? \n",
    "Why aren't we demanding a response to the gangs and the cartels, the opioid, all of it, terrorizing our neighborhoods right here at home?\n",
    "In fact, the Left has only made matters worse on the ground for the working class here at home. They excuse riots, they bailed out criminals, they endorsed the racist radical agenda of BLM. And Democrats in bed with the Left on all of the issues,of course, they've helped make all things worse at every turn.\n",
    "'''\n",
    "#Remember: you need to type the title into the first parameter\n",
    "#place the variable containing the text into the second paramater\n",
    "#If you want to split by line choose True for the third parameter\n",
    "#If you want to split by sentence, choose False\n",
    "transform_it = text_to_dict(\"Ingraham Angle, August 19\",text0,True)\n",
    "all_texts.append(transform_it)"
   ]
  },
  {
   "cell_type": "code",
   "execution_count": 6,
   "metadata": {},
   "outputs": [
    {
     "data": {
      "text/plain": [
       "[{'title': 'Ingraham Angle, August 19',\n",
       "  'text_as_string': \"\\nNow, our elites in politics and the media, they really want you to know that they care deeply about the Afghan people so much that they want to bring as many Afghans here to the United States as possible.\\nAnd while it's certainly heart wrenching to see the needless suffering wherever it occurs in the world -- it's just awful, none of us want to see that.\\nBut why is it that most of the same people, we just saw on those clips, and all these politicians, all the people who are going on and on everybody in the country, why do they so often ignore the very real suffering happening here at home?\\nYou don't have to go to the Afghan provinces near Bagram to see human tragedy. \\nYou can see it not far from here in Baltimore. \\nAnd the last three weeks, five teenagers have been shot there, two of them fatally. \\nOne 15- year-old was gunned down in the street in broad daylight. \\nYou don't have to go to Kandahar to see thousands living in constant fear.\\nYou can go to Chicago to see that.\\n16 were shot yesterday alone, including a seven year old boy who is sitting in the back of his mom's car.\\nIt's all horrifying, but we shouldn't be surprised.\\nWhen the Taliban terrorizes Afghans, it's an Islamic fundamentalist extremist cult, after all, come on.\\nBut what's our excuse? \\nWhy aren't we more shocked? \\nWhy aren't we demanding a response to the gangs and the cartels, the opioid, all of it, terrorizing our neighborhoods right here at home?\\nIn fact, the Left has only made matters worse on the ground for the working class here at home. They excuse riots, they bailed out criminals, they endorsed the racist radical agenda of BLM. And Democrats in bed with the Left on all of the issues,of course, they've helped make all things worse at every turn.\\n\",\n",
       "  'lines': ['Now, our elites in politics and the media, they really want you to know that they care deeply about the Afghan people so much that they want to bring as many Afghans here to the United States as possible.',\n",
       "   \"And while it's certainly heart wrenching to see the needless suffering wherever it occurs in the world -- it's just awful, none of us want to see that.\",\n",
       "   'But why is it that most of the same people, we just saw on those clips, and all these politicians, all the people who are going on and on everybody in the country, why do they so often ignore the very real suffering happening here at home?',\n",
       "   \"You don't have to go to the Afghan provinces near Bagram to see human tragedy. \",\n",
       "   'You can see it not far from here in Baltimore. ',\n",
       "   'And the last three weeks, five teenagers have been shot there, two of them fatally. ',\n",
       "   'One 15- year-old was gunned down in the street in broad daylight. ',\n",
       "   \"You don't have to go to Kandahar to see thousands living in constant fear.\",\n",
       "   'You can go to Chicago to see that.',\n",
       "   \"16 were shot yesterday alone, including a seven year old boy who is sitting in the back of his mom's car.\",\n",
       "   \"It's all horrifying, but we shouldn't be surprised.\",\n",
       "   \"When the Taliban terrorizes Afghans, it's an Islamic fundamentalist extremist cult, after all, come on.\",\n",
       "   \"But what's our excuse? \",\n",
       "   \"Why aren't we more shocked? \",\n",
       "   \"Why aren't we demanding a response to the gangs and the cartels, the opioid, all of it, terrorizing our neighborhoods right here at home?\",\n",
       "   \"In fact, the Left has only made matters worse on the ground for the working class here at home. They excuse riots, they bailed out criminals, they endorsed the racist radical agenda of BLM. And Democrats in bed with the Left on all of the issues,of course, they've helped make all things worse at every turn.\"]}]"
      ]
     },
     "execution_count": 6,
     "metadata": {},
     "output_type": "execute_result"
    }
   ],
   "source": [
    "all_texts"
   ]
  },
  {
   "cell_type": "code",
   "execution_count": 7,
   "metadata": {},
   "outputs": [],
   "source": [
    "text1 = '''\n",
    "Working, hmmm. \n",
    "Well is it working when people choose not to work, when your policies are increasingly encouraging Americans to stay home? \n",
    "When the government keeps sending checks - we call them Biden bucks - to people that remain out of the workforce, OK, you know what? \n",
    "It turns out a lot of people just don't work. \n",
    "It's shocking.\n",
    "You can't get anyone to show up at work. \n",
    "Now Biden, remember, decided to continue COVID unemployment benefits when all we really needed was to fling open the doors of our economy. \n",
    "He's destroying the work ethic across the country.\n",
    "3.4 million Americans are still long-term unemployed.\n",
    "Now you didn't see those kinds of numbers when Trump was president. \n",
    "No longer are the days of Theodore Roosevelt when he said nothing in this world is worth having or worth doing unless it means effort, pain, and difficulty or to be a little more contemporary. \n",
    "Working really hard is what successful people do. \n",
    "It's a simple message, and it's getting lost today because Biden and the Democrats too often seek to punish and demonize success. \n",
    "Meanwhile, they flit off to the mansions, the Martha's Vineyard party circuit, and of course, let's not forget Radio City on the big opening nights.\n",
    "My friends, our recession ended in April 2020. \n",
    "It's the shortest on record after Trump agreed to the original federal shutdown during COVID, but now we still pumped a huge amount of money into the economy.\n",
    "We kept the blue states flush with cash despite the fact that for all those months they kept their self-sabotaging policies. \n",
    "How depressing and aggravating is it to you - it certainly is to me - to see an able-bodied young man or woman sitting at home playing Fortnite or talking to friends on social media all day when they could be out feeling really good about themselves because they're working.\n",
    "'''\n",
    "transform_it = text_to_dict(\"Ingraham Angle, August 12\",text1,True)\n",
    "all_texts.append(transform_it)"
   ]
  },
  {
   "cell_type": "code",
   "execution_count": 8,
   "metadata": {},
   "outputs": [],
   "source": [
    "text2 = '''\n",
    "Now, by all accounts, Brisson Christian was an amazing kid. \n",
    "He loved Oreo cookies and SpongeBob SquarePants. \n",
    "His dad said that the two-year-old was the kind of person who could just light up a room. \n",
    "Well, tragically that light went out just days ago when Bryson and his nine-year-old brother BJ were shot on a Detroit interstate. \n",
    "And it happened as their family was driving home from baseball practice. \n",
    "Now BJ survived. Brisson was pronounced dead at the hospital.\n",
    "Less than 12 hours after that, on Detroit's West Side, another burst of violence. \n",
    "An 11-year-old boy and his father were seriously wounded after their car was sprayed with bullets. \n",
    "Then roughly, I don't know, about 530 miles or so away in Baltimore, just yesterday, a man was shot multiple times in the head in broad daylight. \n",
    "Now, that was charm city's second murder that day. \n",
    "Hours earlier, a man was stabbed to death.\n",
    "\n",
    "In St. Louis, it was a deadly Father's Day weekend and things didn't let up last night with seven shot and three dead in just one neighborhood incident. \n",
    "But that's ok, because I'm sure residents there are comforted by Mayor Tishaura Jones who tweeted, \"After decades of neglect, I'm committed to reinvesting in North City to address root causes of crime. More resources make our communities safer.\"\n",
    "She did thoughts and prayers as well.\n",
    "Root causes, more resources? \n",
    "Doesn't that sound like Kamala Harris's the answer on the border crisis. \n",
    "Of course, the truth is, these progressive mayors, these socialist mayors are themselves drivers of crime. \n",
    "From defund the police, to eliminating cash bail, to emptying our prisons, the policies they've advocated have made urban areas unlivable, violent cesspools.\n",
    "And of course, now that crime is skyrocketing because of their policies, they're blaming the very group they once attacked for being too hard on criminals.\n",
    "'''\n",
    "transform_it = text_to_dict(\"Ingraham Angle, June 23\",text2,True)\n",
    "all_texts.append(transform_it)"
   ]
  },
  {
   "cell_type": "code",
   "execution_count": 9,
   "metadata": {},
   "outputs": [
    {
     "data": {
      "text/plain": [
       "'And it happened as their family was driving home from baseball practice. '"
      ]
     },
     "execution_count": 9,
     "metadata": {},
     "output_type": "execute_result"
    }
   ],
   "source": [
    "#this will display the 5 line in the 3rd text.\n",
    "all_texts[2]['lines'][4]"
   ]
  },
  {
   "cell_type": "code",
   "execution_count": 10,
   "metadata": {},
   "outputs": [],
   "source": [
    "text3 = '''\n",
    "Now, it's often said that the children are our future, and of course, that's exactly why the Left wants to take them from parents who don't buy into their twisted agenda.\n",
    "Everywhere you look, in myriad ways, forces are working overtime, to undermine parental rights and their Judeo Christian values. \n",
    "From teachers unions to gender activists to Biden's vaccine pushers, we're seeing a concerted effort backed by some of the biggest financial interests out there to indoctrinate our children into a dark mindset of anti-Americanism.\n",
    "Now, this new normal requires the undermining of American history. \n",
    "It involves teaching concepts directly at odds with the ideal of the nuclear family. \n",
    "Now, on the COVID issue, government and so called public health experts are trying to force your kids to get injected with an experimental COVID vaccine, whether you want them to or not.\n",
    "As \"The Angle\" revealed last night, the Biden administration is about to take their pressure campaign to your doorstep.\n",
    "Strike forces? President Xi must be very proud with that language. \n",
    "Now, but today, HHS Secretary Becerra took it to an even more sinister level. \n",
    "Biden's vaccine militia will apparently be asking household adults questions about the family's vaccine status, and God knows what else.\n",
    "First, Xavier, it's not your Department's role to pry into the medical decisions of American citizens. Second, the economy's already reopened and has been for a year in red states. Third, we trust parents, not the bureaucrats who have misled us consistently to make important family health decisions.\n",
    "Now, Republican officials are already pushing back - and this is great. \n",
    "Missouri's Governor Mike Parson politely told the feds to take their vaccine evangelization elsewhere. \n",
    "And the Arizona Ag in a letter to President Biden raised the issue of medical privacy, writing, \"I will not tolerate such intrusions within Arizona. If Americans are on the fence about taking the COVID-19 vaccine, it would be most inappropriate for bureaucrats to single them out, regardless of motivations or intentions.\"\n",
    "Now, the White House is claiming that it's not going to keep vaccination database and that all door knockers are just going to be volunteers, don't worry about it. \n",
    "But given their raw obsession with vaccinating kids, who rarely get ill from COVID, no wonder if you trust them.\n",
    "Now, things are so bad in my old home state of Connecticut, that parents there are suing to enjoin the new law that requires kindergarteners to be vaccinated even if it violates parents' religious beliefs.\n",
    "\n",
    "'''\n",
    "transform_it = text_to_dict(\"Ingraham Angle, July 8\",text3,True)\n",
    "all_texts.append(transform_it)"
   ]
  },
  {
   "cell_type": "code",
   "execution_count": 11,
   "metadata": {},
   "outputs": [],
   "source": [
    "text4 = '''\n",
    "Now, over the weekend, I spent some time in upstate New York. \n",
    "It was a world away from New York City. \n",
    "Now, this is a gorgeous part of the U.S. \n",
    "I'd never been there before. \n",
    "So the foothills of the Adirondacks, just incredibly beautiful. \n",
    "But at the same time, I could almost feel the hope there evaporating.\n",
    "What Americans thought was going to be this fresh start post COVID is on the verge of slipping away. \n",
    "Now, filling up at the gas station, I noticed the other customers exasperated, they were literally changing the price of the gas on the sign we were there. \n",
    "And they're all looking at the price, almost four bucks a gallon.\n",
    "Remember, when Trump left office, it was about $2.24 in the DC area, and around the country, some places it was $1.92. \n",
    "Now, it turns out Biden's administration six months in is itself already out of gas.\n",
    "Now, they might think they're doing a lot because for them destroying individual initiative, blowing money we don't have, they are huge accomplishments. \n",
    "But a quick look at where America stands today shows us that Biden has taken a golden opportunity and he's just grounded into the dirt.\n",
    "Now, the public's optimism about the future is plummeting.\n",
    "Just since May, according to a new ABC News poll, it's down nearly 20 points to 45 percent. Now, in late spring, think back on this, we were all looking forward to the future, the summer, the fall, back with friends and family, kids in school without zoom, without masks. \n",
    "The most vulnerable, the elderly, most of them were vaccinated and millions of those otherwise vulnerable were as well.\n",
    "So ending the scourge of COVID was pretty much why Biden was elected after all.\n",
    "'''\n",
    "transform_it = text_to_dict(\"Ingraham Angle, July 27\",text4,True)\n",
    "all_texts.append(transform_it)"
   ]
  },
  {
   "cell_type": "markdown",
   "metadata": {},
   "source": [
    "Run the two cells below to confirm that first, you only have five texts in the all_texts list, and next, look at the all_texts list to see the dictionary inside it. "
   ]
  },
  {
   "cell_type": "code",
   "execution_count": 12,
   "metadata": {},
   "outputs": [
    {
     "data": {
      "text/plain": [
       "5"
      ]
     },
     "execution_count": 12,
     "metadata": {},
     "output_type": "execute_result"
    }
   ],
   "source": [
    "len(all_texts)"
   ]
  },
  {
   "cell_type": "code",
   "execution_count": 13,
   "metadata": {},
   "outputs": [
    {
     "data": {
      "text/plain": [
       "[{'title': 'Ingraham Angle, August 19',\n",
       "  'text_as_string': \"\\nNow, our elites in politics and the media, they really want you to know that they care deeply about the Afghan people so much that they want to bring as many Afghans here to the United States as possible.\\nAnd while it's certainly heart wrenching to see the needless suffering wherever it occurs in the world -- it's just awful, none of us want to see that.\\nBut why is it that most of the same people, we just saw on those clips, and all these politicians, all the people who are going on and on everybody in the country, why do they so often ignore the very real suffering happening here at home?\\nYou don't have to go to the Afghan provinces near Bagram to see human tragedy. \\nYou can see it not far from here in Baltimore. \\nAnd the last three weeks, five teenagers have been shot there, two of them fatally. \\nOne 15- year-old was gunned down in the street in broad daylight. \\nYou don't have to go to Kandahar to see thousands living in constant fear.\\nYou can go to Chicago to see that.\\n16 were shot yesterday alone, including a seven year old boy who is sitting in the back of his mom's car.\\nIt's all horrifying, but we shouldn't be surprised.\\nWhen the Taliban terrorizes Afghans, it's an Islamic fundamentalist extremist cult, after all, come on.\\nBut what's our excuse? \\nWhy aren't we more shocked? \\nWhy aren't we demanding a response to the gangs and the cartels, the opioid, all of it, terrorizing our neighborhoods right here at home?\\nIn fact, the Left has only made matters worse on the ground for the working class here at home. They excuse riots, they bailed out criminals, they endorsed the racist radical agenda of BLM. And Democrats in bed with the Left on all of the issues,of course, they've helped make all things worse at every turn.\\n\",\n",
       "  'lines': ['Now, our elites in politics and the media, they really want you to know that they care deeply about the Afghan people so much that they want to bring as many Afghans here to the United States as possible.',\n",
       "   \"And while it's certainly heart wrenching to see the needless suffering wherever it occurs in the world -- it's just awful, none of us want to see that.\",\n",
       "   'But why is it that most of the same people, we just saw on those clips, and all these politicians, all the people who are going on and on everybody in the country, why do they so often ignore the very real suffering happening here at home?',\n",
       "   \"You don't have to go to the Afghan provinces near Bagram to see human tragedy. \",\n",
       "   'You can see it not far from here in Baltimore. ',\n",
       "   'And the last three weeks, five teenagers have been shot there, two of them fatally. ',\n",
       "   'One 15- year-old was gunned down in the street in broad daylight. ',\n",
       "   \"You don't have to go to Kandahar to see thousands living in constant fear.\",\n",
       "   'You can go to Chicago to see that.',\n",
       "   \"16 were shot yesterday alone, including a seven year old boy who is sitting in the back of his mom's car.\",\n",
       "   \"It's all horrifying, but we shouldn't be surprised.\",\n",
       "   \"When the Taliban terrorizes Afghans, it's an Islamic fundamentalist extremist cult, after all, come on.\",\n",
       "   \"But what's our excuse? \",\n",
       "   \"Why aren't we more shocked? \",\n",
       "   \"Why aren't we demanding a response to the gangs and the cartels, the opioid, all of it, terrorizing our neighborhoods right here at home?\",\n",
       "   \"In fact, the Left has only made matters worse on the ground for the working class here at home. They excuse riots, they bailed out criminals, they endorsed the racist radical agenda of BLM. And Democrats in bed with the Left on all of the issues,of course, they've helped make all things worse at every turn.\"]},\n",
       " {'title': 'Ingraham Angle, August 12',\n",
       "  'text_as_string': \"\\nWorking, hmmm. \\nWell is it working when people choose not to work, when your policies are increasingly encouraging Americans to stay home? \\nWhen the government keeps sending checks - we call them Biden bucks - to people that remain out of the workforce, OK, you know what? \\nIt turns out a lot of people just don't work. \\nIt's shocking.\\nYou can't get anyone to show up at work. \\nNow Biden, remember, decided to continue COVID unemployment benefits when all we really needed was to fling open the doors of our economy. \\nHe's destroying the work ethic across the country.\\n3.4 million Americans are still long-term unemployed.\\nNow you didn't see those kinds of numbers when Trump was president. \\nNo longer are the days of Theodore Roosevelt when he said nothing in this world is worth having or worth doing unless it means effort, pain, and difficulty or to be a little more contemporary. \\nWorking really hard is what successful people do. \\nIt's a simple message, and it's getting lost today because Biden and the Democrats too often seek to punish and demonize success. \\nMeanwhile, they flit off to the mansions, the Martha's Vineyard party circuit, and of course, let's not forget Radio City on the big opening nights.\\nMy friends, our recession ended in April 2020. \\nIt's the shortest on record after Trump agreed to the original federal shutdown during COVID, but now we still pumped a huge amount of money into the economy.\\nWe kept the blue states flush with cash despite the fact that for all those months they kept their self-sabotaging policies. \\nHow depressing and aggravating is it to you - it certainly is to me - to see an able-bodied young man or woman sitting at home playing Fortnite or talking to friends on social media all day when they could be out feeling really good about themselves because they're working.\\n\",\n",
       "  'lines': ['Working, hmmm. ',\n",
       "   'Well is it working when people choose not to work, when your policies are increasingly encouraging Americans to stay home? ',\n",
       "   'When the government keeps sending checks - we call them Biden bucks - to people that remain out of the workforce, OK, you know what? ',\n",
       "   \"It turns out a lot of people just don't work. \",\n",
       "   \"It's shocking.\",\n",
       "   \"You can't get anyone to show up at work. \",\n",
       "   'Now Biden, remember, decided to continue COVID unemployment benefits when all we really needed was to fling open the doors of our economy. ',\n",
       "   \"He's destroying the work ethic across the country.\",\n",
       "   '3.4 million Americans are still long-term unemployed.',\n",
       "   \"Now you didn't see those kinds of numbers when Trump was president. \",\n",
       "   'No longer are the days of Theodore Roosevelt when he said nothing in this world is worth having or worth doing unless it means effort, pain, and difficulty or to be a little more contemporary. ',\n",
       "   'Working really hard is what successful people do. ',\n",
       "   \"It's a simple message, and it's getting lost today because Biden and the Democrats too often seek to punish and demonize success. \",\n",
       "   \"Meanwhile, they flit off to the mansions, the Martha's Vineyard party circuit, and of course, let's not forget Radio City on the big opening nights.\",\n",
       "   'My friends, our recession ended in April 2020. ',\n",
       "   \"It's the shortest on record after Trump agreed to the original federal shutdown during COVID, but now we still pumped a huge amount of money into the economy.\",\n",
       "   'We kept the blue states flush with cash despite the fact that for all those months they kept their self-sabotaging policies. ',\n",
       "   \"How depressing and aggravating is it to you - it certainly is to me - to see an able-bodied young man or woman sitting at home playing Fortnite or talking to friends on social media all day when they could be out feeling really good about themselves because they're working.\"]},\n",
       " {'title': 'Ingraham Angle, June 23',\n",
       "  'text_as_string': '\\nNow, by all accounts, Brisson Christian was an amazing kid. \\nHe loved Oreo cookies and SpongeBob SquarePants. \\nHis dad said that the two-year-old was the kind of person who could just light up a room. \\nWell, tragically that light went out just days ago when Bryson and his nine-year-old brother BJ were shot on a Detroit interstate. \\nAnd it happened as their family was driving home from baseball practice. \\nNow BJ survived. Brisson was pronounced dead at the hospital.\\nLess than 12 hours after that, on Detroit\\'s West Side, another burst of violence. \\nAn 11-year-old boy and his father were seriously wounded after their car was sprayed with bullets. \\nThen roughly, I don\\'t know, about 530 miles or so away in Baltimore, just yesterday, a man was shot multiple times in the head in broad daylight. \\nNow, that was charm city\\'s second murder that day. \\nHours earlier, a man was stabbed to death.\\n\\nIn St. Louis, it was a deadly Father\\'s Day weekend and things didn\\'t let up last night with seven shot and three dead in just one neighborhood incident. \\nBut that\\'s ok, because I\\'m sure residents there are comforted by Mayor Tishaura Jones who tweeted, \"After decades of neglect, I\\'m committed to reinvesting in North City to address root causes of crime. More resources make our communities safer.\"\\nShe did thoughts and prayers as well.\\nRoot causes, more resources? \\nDoesn\\'t that sound like Kamala Harris\\'s the answer on the border crisis. \\nOf course, the truth is, these progressive mayors, these socialist mayors are themselves drivers of crime. \\nFrom defund the police, to eliminating cash bail, to emptying our prisons, the policies they\\'ve advocated have made urban areas unlivable, violent cesspools.\\nAnd of course, now that crime is skyrocketing because of their policies, they\\'re blaming the very group they once attacked for being too hard on criminals.\\n',\n",
       "  'lines': ['Now, by all accounts, Brisson Christian was an amazing kid. ',\n",
       "   'He loved Oreo cookies and SpongeBob SquarePants. ',\n",
       "   'His dad said that the two-year-old was the kind of person who could just light up a room. ',\n",
       "   'Well, tragically that light went out just days ago when Bryson and his nine-year-old brother BJ were shot on a Detroit interstate. ',\n",
       "   'And it happened as their family was driving home from baseball practice. ',\n",
       "   'Now BJ survived. Brisson was pronounced dead at the hospital.',\n",
       "   \"Less than 12 hours after that, on Detroit's West Side, another burst of violence. \",\n",
       "   'An 11-year-old boy and his father were seriously wounded after their car was sprayed with bullets. ',\n",
       "   \"Then roughly, I don't know, about 530 miles or so away in Baltimore, just yesterday, a man was shot multiple times in the head in broad daylight. \",\n",
       "   \"Now, that was charm city's second murder that day. \",\n",
       "   'Hours earlier, a man was stabbed to death.',\n",
       "   '',\n",
       "   \"In St. Louis, it was a deadly Father's Day weekend and things didn't let up last night with seven shot and three dead in just one neighborhood incident. \",\n",
       "   'But that\\'s ok, because I\\'m sure residents there are comforted by Mayor Tishaura Jones who tweeted, \"After decades of neglect, I\\'m committed to reinvesting in North City to address root causes of crime. More resources make our communities safer.\"',\n",
       "   'She did thoughts and prayers as well.',\n",
       "   'Root causes, more resources? ',\n",
       "   \"Doesn't that sound like Kamala Harris's the answer on the border crisis. \",\n",
       "   'Of course, the truth is, these progressive mayors, these socialist mayors are themselves drivers of crime. ',\n",
       "   \"From defund the police, to eliminating cash bail, to emptying our prisons, the policies they've advocated have made urban areas unlivable, violent cesspools.\",\n",
       "   \"And of course, now that crime is skyrocketing because of their policies, they're blaming the very group they once attacked for being too hard on criminals.\"]},\n",
       " {'title': 'Ingraham Angle, July 8',\n",
       "  'text_as_string': '\\nNow, it\\'s often said that the children are our future, and of course, that\\'s exactly why the Left wants to take them from parents who don\\'t buy into their twisted agenda.\\nEverywhere you look, in myriad ways, forces are working overtime, to undermine parental rights and their Judeo Christian values. \\nFrom teachers unions to gender activists to Biden\\'s vaccine pushers, we\\'re seeing a concerted effort backed by some of the biggest financial interests out there to indoctrinate our children into a dark mindset of anti-Americanism.\\nNow, this new normal requires the undermining of American history. \\nIt involves teaching concepts directly at odds with the ideal of the nuclear family. \\nNow, on the COVID issue, government and so called public health experts are trying to force your kids to get injected with an experimental COVID vaccine, whether you want them to or not.\\nAs \"The Angle\" revealed last night, the Biden administration is about to take their pressure campaign to your doorstep.\\nStrike forces? President Xi must be very proud with that language. \\nNow, but today, HHS Secretary Becerra took it to an even more sinister level. \\nBiden\\'s vaccine militia will apparently be asking household adults questions about the family\\'s vaccine status, and God knows what else.\\nFirst, Xavier, it\\'s not your Department\\'s role to pry into the medical decisions of American citizens. Second, the economy\\'s already reopened and has been for a year in red states. Third, we trust parents, not the bureaucrats who have misled us consistently to make important family health decisions.\\nNow, Republican officials are already pushing back - and this is great. \\nMissouri\\'s Governor Mike Parson politely told the feds to take their vaccine evangelization elsewhere. \\nAnd the Arizona Ag in a letter to President Biden raised the issue of medical privacy, writing, \"I will not tolerate such intrusions within Arizona. If Americans are on the fence about taking the COVID-19 vaccine, it would be most inappropriate for bureaucrats to single them out, regardless of motivations or intentions.\"\\nNow, the White House is claiming that it\\'s not going to keep vaccination database and that all door knockers are just going to be volunteers, don\\'t worry about it. \\nBut given their raw obsession with vaccinating kids, who rarely get ill from COVID, no wonder if you trust them.\\nNow, things are so bad in my old home state of Connecticut, that parents there are suing to enjoin the new law that requires kindergarteners to be vaccinated even if it violates parents\\' religious beliefs.\\n\\n',\n",
       "  'lines': [\"Now, it's often said that the children are our future, and of course, that's exactly why the Left wants to take them from parents who don't buy into their twisted agenda.\",\n",
       "   'Everywhere you look, in myriad ways, forces are working overtime, to undermine parental rights and their Judeo Christian values. ',\n",
       "   \"From teachers unions to gender activists to Biden's vaccine pushers, we're seeing a concerted effort backed by some of the biggest financial interests out there to indoctrinate our children into a dark mindset of anti-Americanism.\",\n",
       "   'Now, this new normal requires the undermining of American history. ',\n",
       "   'It involves teaching concepts directly at odds with the ideal of the nuclear family. ',\n",
       "   'Now, on the COVID issue, government and so called public health experts are trying to force your kids to get injected with an experimental COVID vaccine, whether you want them to or not.',\n",
       "   'As \"The Angle\" revealed last night, the Biden administration is about to take their pressure campaign to your doorstep.',\n",
       "   'Strike forces? President Xi must be very proud with that language. ',\n",
       "   'Now, but today, HHS Secretary Becerra took it to an even more sinister level. ',\n",
       "   \"Biden's vaccine militia will apparently be asking household adults questions about the family's vaccine status, and God knows what else.\",\n",
       "   \"First, Xavier, it's not your Department's role to pry into the medical decisions of American citizens. Second, the economy's already reopened and has been for a year in red states. Third, we trust parents, not the bureaucrats who have misled us consistently to make important family health decisions.\",\n",
       "   'Now, Republican officials are already pushing back - and this is great. ',\n",
       "   \"Missouri's Governor Mike Parson politely told the feds to take their vaccine evangelization elsewhere. \",\n",
       "   'And the Arizona Ag in a letter to President Biden raised the issue of medical privacy, writing, \"I will not tolerate such intrusions within Arizona. If Americans are on the fence about taking the COVID-19 vaccine, it would be most inappropriate for bureaucrats to single them out, regardless of motivations or intentions.\"',\n",
       "   \"Now, the White House is claiming that it's not going to keep vaccination database and that all door knockers are just going to be volunteers, don't worry about it. \",\n",
       "   'But given their raw obsession with vaccinating kids, who rarely get ill from COVID, no wonder if you trust them.',\n",
       "   \"Now, things are so bad in my old home state of Connecticut, that parents there are suing to enjoin the new law that requires kindergarteners to be vaccinated even if it violates parents' religious beliefs.\"]},\n",
       " {'title': 'Ingraham Angle, July 27',\n",
       "  'text_as_string': \"\\nNow, over the weekend, I spent some time in upstate New York. \\nIt was a world away from New York City. \\nNow, this is a gorgeous part of the U.S. \\nI'd never been there before. \\nSo the foothills of the Adirondacks, just incredibly beautiful. \\nBut at the same time, I could almost feel the hope there evaporating.\\nWhat Americans thought was going to be this fresh start post COVID is on the verge of slipping away. \\nNow, filling up at the gas station, I noticed the other customers exasperated, they were literally changing the price of the gas on the sign we were there. \\nAnd they're all looking at the price, almost four bucks a gallon.\\nRemember, when Trump left office, it was about $2.24 in the DC area, and around the country, some places it was $1.92. \\nNow, it turns out Biden's administration six months in is itself already out of gas.\\nNow, they might think they're doing a lot because for them destroying individual initiative, blowing money we don't have, they are huge accomplishments. \\nBut a quick look at where America stands today shows us that Biden has taken a golden opportunity and he's just grounded into the dirt.\\nNow, the public's optimism about the future is plummeting.\\nJust since May, according to a new ABC News poll, it's down nearly 20 points to 45 percent. Now, in late spring, think back on this, we were all looking forward to the future, the summer, the fall, back with friends and family, kids in school without zoom, without masks. \\nThe most vulnerable, the elderly, most of them were vaccinated and millions of those otherwise vulnerable were as well.\\nSo ending the scourge of COVID was pretty much why Biden was elected after all.\\n\",\n",
       "  'lines': ['Now, over the weekend, I spent some time in upstate New York. ',\n",
       "   'It was a world away from New York City. ',\n",
       "   'Now, this is a gorgeous part of the U.S. ',\n",
       "   \"I'd never been there before. \",\n",
       "   'So the foothills of the Adirondacks, just incredibly beautiful. ',\n",
       "   'But at the same time, I could almost feel the hope there evaporating.',\n",
       "   'What Americans thought was going to be this fresh start post COVID is on the verge of slipping away. ',\n",
       "   'Now, filling up at the gas station, I noticed the other customers exasperated, they were literally changing the price of the gas on the sign we were there. ',\n",
       "   \"And they're all looking at the price, almost four bucks a gallon.\",\n",
       "   'Remember, when Trump left office, it was about $2.24 in the DC area, and around the country, some places it was $1.92. ',\n",
       "   \"Now, it turns out Biden's administration six months in is itself already out of gas.\",\n",
       "   \"Now, they might think they're doing a lot because for them destroying individual initiative, blowing money we don't have, they are huge accomplishments. \",\n",
       "   \"But a quick look at where America stands today shows us that Biden has taken a golden opportunity and he's just grounded into the dirt.\",\n",
       "   \"Now, the public's optimism about the future is plummeting.\",\n",
       "   \"Just since May, according to a new ABC News poll, it's down nearly 20 points to 45 percent. Now, in late spring, think back on this, we were all looking forward to the future, the summer, the fall, back with friends and family, kids in school without zoom, without masks. \",\n",
       "   'The most vulnerable, the elderly, most of them were vaccinated and millions of those otherwise vulnerable were as well.',\n",
       "   'So ending the scourge of COVID was pretty much why Biden was elected after all.']}]"
      ]
     },
     "execution_count": 13,
     "metadata": {},
     "output_type": "execute_result"
    }
   ],
   "source": [
    "all_texts"
   ]
  },
  {
   "cell_type": "markdown",
   "metadata": {},
   "source": [
    "In the cell below, loop through all_texts and print out the title of each text. (This is the only code you need to write for Part One.)"
   ]
  },
  {
   "cell_type": "code",
   "execution_count": 14,
   "metadata": {},
   "outputs": [
    {
     "name": "stdout",
     "output_type": "stream",
     "text": [
      "Ingraham Angle, August 19\n",
      "Ingraham Angle, August 12\n",
      "Ingraham Angle, June 23\n",
      "Ingraham Angle, July 8\n",
      "Ingraham Angle, July 27\n"
     ]
    }
   ],
   "source": [
    "for text in all_texts:\n",
    "    print(text['title'])"
   ]
  },
  {
   "cell_type": "markdown",
   "metadata": {},
   "source": [
    "## Part Two:  searching within lists and dictionaries\n",
    "In this part, we will be searching through each text and printing out a desired result. The searches, including loops and printing should all be defined in the function. The second cell should just have a function call that executes the function. I have written an example function and call for the first search. For each function that you write you should copy the function from the previous question and modify it so what does what I ask for.\n",
    "\n",
    "For the first six functions, there are no parameters passed to the functions--the calls will just execute the function. Go step-by-step and take your time."
   ]
  },
  {
   "cell_type": "code",
   "execution_count": 15,
   "metadata": {},
   "outputs": [],
   "source": [
    "def get_lengths():\n",
    "    for text in all_texts:\n",
    "        print(text['title'])\n",
    "        print(len(text['text_as_string']))\n",
    "        print(\"------------\")"
   ]
  },
  {
   "cell_type": "code",
   "execution_count": 16,
   "metadata": {},
   "outputs": [
    {
     "name": "stdout",
     "output_type": "stream",
     "text": [
      "Ingraham Angle, August 19\n",
      "1750\n",
      "------------\n",
      "Ingraham Angle, August 12\n",
      "1826\n",
      "------------\n",
      "Ingraham Angle, June 23\n",
      "1861\n",
      "------------\n",
      "Ingraham Angle, July 8\n",
      "2564\n",
      "------------\n",
      "Ingraham Angle, July 27\n",
      "1664\n",
      "------------\n"
     ]
    }
   ],
   "source": [
    "get_lengths()"
   ]
  },
  {
   "cell_type": "markdown",
   "metadata": {},
   "source": [
    "Question 1\n",
    "Now write a function that gets the **line count for each poem** (or sentence count for each piece of prose). This function is going to be very similar to the last one. Instead of accessing the whole text via text['text_as_string'] which is a string, you need to access the list of lines/sentences and get the length of that list. Everything else should be the same."
   ]
  },
  {
   "cell_type": "code",
   "execution_count": 17,
   "metadata": {},
   "outputs": [],
   "source": [
    "#Write your function here, name it get_line_count()\n",
    "def get_line_count():\n",
    "    for text in all_texts:\n",
    "        print(text['title'])\n",
    "        print(len(text['lines']))\n",
    "        print(\"------------\")"
   ]
  },
  {
   "cell_type": "code",
   "execution_count": 18,
   "metadata": {},
   "outputs": [
    {
     "name": "stdout",
     "output_type": "stream",
     "text": [
      "Ingraham Angle, August 19\n",
      "16\n",
      "------------\n",
      "Ingraham Angle, August 12\n",
      "18\n",
      "------------\n",
      "Ingraham Angle, June 23\n",
      "20\n",
      "------------\n",
      "Ingraham Angle, July 8\n",
      "17\n",
      "------------\n",
      "Ingraham Angle, July 27\n",
      "17\n",
      "------------\n"
     ]
    }
   ],
   "source": [
    "get_line_count()"
   ]
  },
  {
   "cell_type": "markdown",
   "metadata": {},
   "source": [
    "Question 2\n",
    "Now write a function that prints out **one random line or sentence from each text**. Again, this function will look much the same as the last ones, but instead of getting numbers you need to get actual lines. I have included the necessary import and an example of how to get random integers. Basically, for each text you need to get one element from the list of lines/ sentences with a random number between 0 and the length of the list."
   ]
  },
  {
   "cell_type": "code",
   "execution_count": 19,
   "metadata": {},
   "outputs": [],
   "source": [
    "\n",
    "from random import randint\n",
    "#Write your function here name it show_random_lines()\n",
    "def show_random_lines():\n",
    "    for text in all_texts:\n",
    "        random_num = randint(0, len(text['lines'])-1)\n",
    "        print(text['title'])\n",
    "        print(text['lines'][random_num])\n",
    "        print(\"------------\")\n",
    "#This should be inside the inner loop \n",
    "#so you get a fresh random number for each text\n",
    "#And it should not be from 0 to 9, but 0 to what?\n",
    "#Keep in mind that the range (0,9) give you any number \n",
    "#from 0 to 9 including both 0 and 9.\n"
   ]
  },
  {
   "cell_type": "code",
   "execution_count": 20,
   "metadata": {},
   "outputs": [
    {
     "name": "stdout",
     "output_type": "stream",
     "text": [
      "Ingraham Angle, August 19\n",
      "You don't have to go to Kandahar to see thousands living in constant fear.\n",
      "------------\n",
      "Ingraham Angle, August 12\n",
      "It turns out a lot of people just don't work. \n",
      "------------\n",
      "Ingraham Angle, June 23\n",
      "Doesn't that sound like Kamala Harris's the answer on the border crisis. \n",
      "------------\n",
      "Ingraham Angle, July 8\n",
      "Now, it's often said that the children are our future, and of course, that's exactly why the Left wants to take them from parents who don't buy into their twisted agenda.\n",
      "------------\n",
      "Ingraham Angle, July 27\n",
      "So the foothills of the Adirondacks, just incredibly beautiful. \n",
      "------------\n"
     ]
    }
   ],
   "source": [
    "show_random_lines()"
   ]
  },
  {
   "cell_type": "markdown",
   "metadata": {},
   "source": [
    "Question 3\n",
    "This is a little bit different--instead of printing out something from each text, please **print the entire text of the longest text**. Remember in the first function, I printed out the length of each text. Well, you need to test for the longest text as you loop through and when you're done looping through, print out the one that is longest.\n",
    "\n",
    "**Major hints!**: To do this you will need two **tracking variables** set before the loop runs: A numerical one that tracks the longest length (the number), and string variable remembers the actual text that has that length.\n",
    "\n",
    "Like this: longest_length = 0 and longest_text = \"\"\n",
    "\n",
    "When you loop through, you need to test if each text was longer than the last one, and if it is longer--you update longest_length and longest_text to reflect the highest length, and the actual text. When the loop is over you then print out that longest_text string."
   ]
  },
  {
   "cell_type": "code",
   "execution_count": 21,
   "metadata": {},
   "outputs": [],
   "source": [
    "#Write your function here, name it longest_text()\n",
    "\n",
    "def longest_text():\n",
    "    longest_length = 0\n",
    "    for text in all_texts:\n",
    "        length = len(text['text_as_string'])\n",
    "        if length > longest_length:\n",
    "            longest_length = length\n",
    "            longest_text = text['lines']\n",
    "            longest_title = text['title']\n",
    "        print(\"-------------------------\")\n",
    "    print(longest_title)\n",
    "    print(longest_length)\n",
    "    print(longest_text)"
   ]
  },
  {
   "cell_type": "code",
   "execution_count": 22,
   "metadata": {},
   "outputs": [
    {
     "name": "stdout",
     "output_type": "stream",
     "text": [
      "-------------------------\n",
      "-------------------------\n",
      "-------------------------\n",
      "-------------------------\n",
      "-------------------------\n",
      "Ingraham Angle, July 8\n",
      "2564\n",
      "[\"Now, it's often said that the children are our future, and of course, that's exactly why the Left wants to take them from parents who don't buy into their twisted agenda.\", 'Everywhere you look, in myriad ways, forces are working overtime, to undermine parental rights and their Judeo Christian values. ', \"From teachers unions to gender activists to Biden's vaccine pushers, we're seeing a concerted effort backed by some of the biggest financial interests out there to indoctrinate our children into a dark mindset of anti-Americanism.\", 'Now, this new normal requires the undermining of American history. ', 'It involves teaching concepts directly at odds with the ideal of the nuclear family. ', 'Now, on the COVID issue, government and so called public health experts are trying to force your kids to get injected with an experimental COVID vaccine, whether you want them to or not.', 'As \"The Angle\" revealed last night, the Biden administration is about to take their pressure campaign to your doorstep.', 'Strike forces? President Xi must be very proud with that language. ', 'Now, but today, HHS Secretary Becerra took it to an even more sinister level. ', \"Biden's vaccine militia will apparently be asking household adults questions about the family's vaccine status, and God knows what else.\", \"First, Xavier, it's not your Department's role to pry into the medical decisions of American citizens. Second, the economy's already reopened and has been for a year in red states. Third, we trust parents, not the bureaucrats who have misled us consistently to make important family health decisions.\", 'Now, Republican officials are already pushing back - and this is great. ', \"Missouri's Governor Mike Parson politely told the feds to take their vaccine evangelization elsewhere. \", 'And the Arizona Ag in a letter to President Biden raised the issue of medical privacy, writing, \"I will not tolerate such intrusions within Arizona. If Americans are on the fence about taking the COVID-19 vaccine, it would be most inappropriate for bureaucrats to single them out, regardless of motivations or intentions.\"', \"Now, the White House is claiming that it's not going to keep vaccination database and that all door knockers are just going to be volunteers, don't worry about it. \", 'But given their raw obsession with vaccinating kids, who rarely get ill from COVID, no wonder if you trust them.', \"Now, things are so bad in my old home state of Connecticut, that parents there are suing to enjoin the new law that requires kindergarteners to be vaccinated even if it violates parents' religious beliefs.\"]\n"
     ]
    }
   ],
   "source": [
    "longest_text()"
   ]
  },
  {
   "cell_type": "markdown",
   "metadata": {},
   "source": [
    "Question 4\n",
    "This is kind of a combination of the first two functions--write a function that gets the **average line/sentence length for each text**."
   ]
  },
  {
   "cell_type": "code",
   "execution_count": 23,
   "metadata": {},
   "outputs": [],
   "source": [
    "#Write your function here\n",
    "def average_line_length():\n",
    "    for text in all_texts:\n",
    "        sum_length = 0\n",
    "        for line in text['lines']:\n",
    "            line_length = len(line)\n",
    "            sum_length = line_length + sum_length\n",
    "        total_lines = len(text['lines'])\n",
    "        avg_length = round(sum_length / total_lines)\n",
    "        print(text['title'])\n",
    "        print(avg_length)\n",
    "        print(\"------------\")"
   ]
  },
  {
   "cell_type": "code",
   "execution_count": 24,
   "metadata": {},
   "outputs": [
    {
     "name": "stdout",
     "output_type": "stream",
     "text": [
      "Ingraham Angle, August 19\n",
      "108\n",
      "------------\n",
      "Ingraham Angle, August 12\n",
      "100\n",
      "------------\n",
      "Ingraham Angle, June 23\n",
      "92\n",
      "------------\n",
      "Ingraham Angle, July 8\n",
      "150\n",
      "------------\n",
      "Ingraham Angle, July 27\n",
      "97\n",
      "------------\n"
     ]
    }
   ],
   "source": [
    "average_line_length()"
   ]
  },
  {
   "cell_type": "markdown",
   "metadata": {},
   "source": [
    "Question 5\n",
    "**Print the longest line/sentence in each text**. \n",
    "This is similar to question 3--but your two tracking variables (longest_length and longest_line) need to be placed right before the inside loop--and then you print the lines each time the inside loop ends."
   ]
  },
  {
   "cell_type": "code",
   "execution_count": 25,
   "metadata": {},
   "outputs": [],
   "source": [
    "#Write your function here\n",
    "def longest_line_in_each():\n",
    "    for text in all_texts:\n",
    "        longest_line = 0\n",
    "        for line in text['lines']:\n",
    "            line_length = len(line)\n",
    "            if line_length > longest_line:\n",
    "                longest_line = line_length\n",
    "        print(text['title'])\n",
    "        print(longest_line)\n",
    "        print(\"------------\")   "
   ]
  },
  {
   "cell_type": "code",
   "execution_count": 26,
   "metadata": {},
   "outputs": [
    {
     "name": "stdout",
     "output_type": "stream",
     "text": [
      "Ingraham Angle, August 19\n",
      "308\n",
      "------------\n",
      "Ingraham Angle, August 12\n",
      "274\n",
      "------------\n",
      "Ingraham Angle, June 23\n",
      "245\n",
      "------------\n",
      "Ingraham Angle, July 8\n",
      "322\n",
      "------------\n",
      "Ingraham Angle, July 27\n",
      "272\n",
      "------------\n"
     ]
    }
   ],
   "source": [
    "longest_line_in_each()"
   ]
  },
  {
   "cell_type": "markdown",
   "metadata": {},
   "source": [
    "Question 6\n",
    "**Print the shortest single line/sentence out of all of the texts that is greater than zero**\n",
    "This is the tricky-ish: You need to place the tracking variables outside the loop (like question 4, but the loop through all of the lines, test for the shortest one (that is greater than 0)."
   ]
  },
  {
   "cell_type": "code",
   "execution_count": 27,
   "metadata": {},
   "outputs": [],
   "source": [
    "#Write your function here\n",
    "def shortest_of_all_lines():\n",
    "    shortest_line = 100\n",
    "    for text in all_texts:\n",
    "        for line in text['lines']:\n",
    "            line_length = len(line)\n",
    "            if line_length < shortest_line and line_length > 0:\n",
    "                shortest_line = line_length\n",
    "                shortest_line_title = text['title']\n",
    "                shortest_line_text = line\n",
    "    print(shortest_line_title)\n",
    "    print(shortest_line)\n",
    "    print(shortest_line_text)\n",
    "    print(\"------------\")   "
   ]
  },
  {
   "cell_type": "code",
   "execution_count": 28,
   "metadata": {},
   "outputs": [
    {
     "name": "stdout",
     "output_type": "stream",
     "text": [
      "Ingraham Angle, August 12\n",
      "14\n",
      "It's shocking.\n",
      "------------\n"
     ]
    }
   ],
   "source": [
    "shortest_of_all_lines()"
   ]
  },
  {
   "cell_type": "markdown",
   "metadata": {},
   "source": [
    "## searching with regular expressions\n",
    "In the functions below you will search all the texts using regular expressions. The first few of these functions should not be too challenging--you just need to adjust the regular expression inside the function. At points it gets a little more complex as you have to control the looping through the lists and dictionaries."
   ]
  },
  {
   "cell_type": "code",
   "execution_count": 29,
   "metadata": {},
   "outputs": [],
   "source": [
    "def get_this_word(word):\n",
    "    my_regex = r\"\\b\" + word + r\"\\b\"\n",
    "    for text in all_texts:\n",
    "        result = [line for line in text['lines'] if re.search(my_regex, line, re.IGNORECASE)]\n",
    "        if len(result) > 0:\n",
    "            print(text['title'])\n",
    "            [print(line) for line in result]\n",
    "            print(\"------------\")\n",
    "            "
   ]
  },
  {
   "cell_type": "code",
   "execution_count": 145,
   "metadata": {},
   "outputs": [
    {
     "name": "stdout",
     "output_type": "stream",
     "text": [
      "Ingraham Angle, August 19\n",
      "And the last three weeks, five teenagers have been shot there, two of them fatally. \n",
      "16 were shot yesterday alone, including a seven year old boy who is sitting in the back of his mom's car.\n",
      "------------\n",
      "Ingraham Angle, June 23\n",
      "Well, tragically that light went out just days ago when Bryson and his nine-year-old brother BJ were shot on a Detroit interstate. \n",
      "Then roughly, I don't know, about 530 miles or so away in Baltimore, just yesterday, a man was shot multiple times in the head in broad daylight. \n",
      "In St. Louis, it was a deadly Father's Day weekend and things didn't let up last night with seven shot and three dead in just one neighborhood incident. \n",
      "------------\n"
     ]
    }
   ],
   "source": [
    "get_this_word('shot')"
   ]
  },
  {
   "cell_type": "markdown",
   "metadata": {},
   "source": [
    "Question 7\n",
    "Print out the lines that **start** with the word entered.  You just need copy the function above and then adjust the regular expression a bit."
   ]
  },
  {
   "cell_type": "code",
   "execution_count": 31,
   "metadata": {},
   "outputs": [],
   "source": [
    "#Write your function here\n",
    "def line_starts_with(word):\n",
    "    my_regex = r\"^\" + word + r\"\\b\"\n",
    "    for text in all_texts:\n",
    "        result = [line for line in text['lines'] if re.search(my_regex, line, re.IGNORECASE)]\n",
    "        if len(result) > 0:\n",
    "            print(text['title'])\n",
    "            [print(line) for line in result]\n",
    "            print(\"------------\")"
   ]
  },
  {
   "cell_type": "code",
   "execution_count": 48,
   "metadata": {},
   "outputs": [
    {
     "name": "stdout",
     "output_type": "stream",
     "text": [
      "Ingraham Angle, August 19\n",
      "Now, our elites in politics and the media, they really want you to know that they care deeply about the Afghan people so much that they want to bring as many Afghans here to the United States as possible.\n",
      "------------\n",
      "Ingraham Angle, August 12\n",
      "Now Biden, remember, decided to continue COVID unemployment benefits when all we really needed was to fling open the doors of our economy. \n",
      "Now you didn't see those kinds of numbers when Trump was president. \n",
      "------------\n",
      "Ingraham Angle, June 23\n",
      "Now, by all accounts, Brisson Christian was an amazing kid. \n",
      "Now BJ survived. Brisson was pronounced dead at the hospital.\n",
      "Now, that was charm city's second murder that day. \n",
      "------------\n",
      "Ingraham Angle, July 8\n",
      "Now, it's often said that the children are our future, and of course, that's exactly why the Left wants to take them from parents who don't buy into their twisted agenda.\n",
      "Now, this new normal requires the undermining of American history. \n",
      "Now, on the COVID issue, government and so called public health experts are trying to force your kids to get injected with an experimental COVID vaccine, whether you want them to or not.\n",
      "Now, but today, HHS Secretary Becerra took it to an even more sinister level. \n",
      "Now, Republican officials are already pushing back - and this is great. \n",
      "Now, the White House is claiming that it's not going to keep vaccination database and that all door knockers are just going to be volunteers, don't worry about it. \n",
      "Now, things are so bad in my old home state of Connecticut, that parents there are suing to enjoin the new law that requires kindergarteners to be vaccinated even if it violates parents' religious beliefs.\n",
      "------------\n",
      "Ingraham Angle, July 27\n",
      "Now, over the weekend, I spent some time in upstate New York. \n",
      "Now, this is a gorgeous part of the U.S. \n",
      "Now, filling up at the gas station, I noticed the other customers exasperated, they were literally changing the price of the gas on the sign we were there. \n",
      "Now, it turns out Biden's administration six months in is itself already out of gas.\n",
      "Now, they might think they're doing a lot because for them destroying individual initiative, blowing money we don't have, they are huge accomplishments. \n",
      "Now, the public's optimism about the future is plummeting.\n",
      "------------\n"
     ]
    }
   ],
   "source": [
    "line_starts_with('now')"
   ]
  },
  {
   "cell_type": "markdown",
   "metadata": {},
   "source": [
    "Question 8\n",
    "Print out the lines that **end** with the word entered.  Again you just need to adjust the regular expression here."
   ]
  },
  {
   "cell_type": "code",
   "execution_count": 89,
   "metadata": {},
   "outputs": [],
   "source": [
    "# Write your function here\n",
    "# HELP!\n",
    "def line_ends_with(word):\n",
    "    my_regex = r\"\\b\" + word + r\"\\b[.,?]?\\W*$\"\n",
    "    for text in all_texts:\n",
    "        result = [line for line in text['lines'] if re.search(my_regex, line, re.IGNORECASE)]\n",
    "        if len(result) > 0:\n",
    "            print(text['title'])\n",
    "            [print(line) for line in result]\n",
    "            print(\"------------\")"
   ]
  },
  {
   "cell_type": "code",
   "execution_count": 90,
   "metadata": {},
   "outputs": [
    {
     "name": "stdout",
     "output_type": "stream",
     "text": [
      "Ingraham Angle, July 27\n",
      "Now, filling up at the gas station, I noticed the other customers exasperated, they were literally changing the price of the gas on the sign we were there. \n",
      "------------\n"
     ]
    }
   ],
   "source": [
    "line_ends_with('there')"
   ]
  },
  {
   "cell_type": "markdown",
   "metadata": {},
   "source": [
    "Question 9\n",
    "Print out **how many times the word was found in each text.** In this case, instead of the list comprehension, you want to run a re.findall() on the string of the text (not the list) and then count the number of elements in the list of results.\n",
    "\n",
    "Hint: use the original function at the beginning of this section, and make the proper adjustments to the variable \"result\""
   ]
  },
  {
   "cell_type": "code",
   "execution_count": 140,
   "metadata": {},
   "outputs": [],
   "source": [
    "#Write your function here\n",
    "def how_many_times(word):\n",
    "    my_regex = r\"\\b\" + word + r\"\\b\"\n",
    "    for text in all_texts:\n",
    "        result = [line for line in text['lines'] if re.findall(my_regex, line, re.IGNORECASE)]\n",
    "        occurrences = len(result)\n",
    "        if occurrences == 1:\n",
    "            print(text['title'])\n",
    "            print(f\"The word --{word}-- occurs {occurrences} time.\")\n",
    "        elif occurrences > 1:\n",
    "            print(text['title'])\n",
    "            print(f\"The word --{word}-- occurs {occurrences} times.\")"
   ]
  },
  {
   "cell_type": "code",
   "execution_count": 144,
   "metadata": {},
   "outputs": [
    {
     "name": "stdout",
     "output_type": "stream",
     "text": [
      "Ingraham Angle, August 12\n",
      "The word --good-- occurs 1 time.\n"
     ]
    }
   ],
   "source": [
    "how_many_times('good')"
   ]
  },
  {
   "cell_type": "markdown",
   "metadata": {},
   "source": [
    "Question 10\n",
    "Print out **the text that has the highest occurrence of the word** you searched for. This is similar to the last function, but here you need tracking variables like you had in Question 3.\n"
   ]
  },
  {
   "cell_type": "code",
   "execution_count": 126,
   "metadata": {},
   "outputs": [],
   "source": [
    "#Write your function here\n",
    "def text_with_most_occurrence_of(word):\n",
    "    my_regex = r\"\\b\" + word + r\"\\b\"\n",
    "    max_occurrence = 0\n",
    "    for text in all_texts:\n",
    "        result = [line for line in text['lines'] if re.findall(my_regex, line, re.IGNORECASE)]\n",
    "        if len(result) > max_occurrence:\n",
    "            max_occurrence = len(result)\n",
    "            max_occurrence_title = text['title']\n",
    "            max_occurrence_text = text['lines']\n",
    "    if max_occurrence > 0:\n",
    "        print(max_occurrence_title)\n",
    "        print(f\"Occurrences of the word -{word}-: {max_occurrence}\")\n",
    "        print(max_occurrence_text)\n",
    "    \n",
    "    "
   ]
  },
  {
   "cell_type": "code",
   "execution_count": 129,
   "metadata": {},
   "outputs": [
    {
     "name": "stdout",
     "output_type": "stream",
     "text": [
      "Ingraham Angle, July 8\n",
      "Occurrences of the word -now-: 7\n",
      "[\"Now, it's often said that the children are our future, and of course, that's exactly why the Left wants to take them from parents who don't buy into their twisted agenda.\", 'Everywhere you look, in myriad ways, forces are working overtime, to undermine parental rights and their Judeo Christian values. ', \"From teachers unions to gender activists to Biden's vaccine pushers, we're seeing a concerted effort backed by some of the biggest financial interests out there to indoctrinate our children into a dark mindset of anti-Americanism.\", 'Now, this new normal requires the undermining of American history. ', 'It involves teaching concepts directly at odds with the ideal of the nuclear family. ', 'Now, on the COVID issue, government and so called public health experts are trying to force your kids to get injected with an experimental COVID vaccine, whether you want them to or not.', 'As \"The Angle\" revealed last night, the Biden administration is about to take their pressure campaign to your doorstep.', 'Strike forces? President Xi must be very proud with that language. ', 'Now, but today, HHS Secretary Becerra took it to an even more sinister level. ', \"Biden's vaccine militia will apparently be asking household adults questions about the family's vaccine status, and God knows what else.\", \"First, Xavier, it's not your Department's role to pry into the medical decisions of American citizens. Second, the economy's already reopened and has been for a year in red states. Third, we trust parents, not the bureaucrats who have misled us consistently to make important family health decisions.\", 'Now, Republican officials are already pushing back - and this is great. ', \"Missouri's Governor Mike Parson politely told the feds to take their vaccine evangelization elsewhere. \", 'And the Arizona Ag in a letter to President Biden raised the issue of medical privacy, writing, \"I will not tolerate such intrusions within Arizona. If Americans are on the fence about taking the COVID-19 vaccine, it would be most inappropriate for bureaucrats to single them out, regardless of motivations or intentions.\"', \"Now, the White House is claiming that it's not going to keep vaccination database and that all door knockers are just going to be volunteers, don't worry about it. \", 'But given their raw obsession with vaccinating kids, who rarely get ill from COVID, no wonder if you trust them.', \"Now, things are so bad in my old home state of Connecticut, that parents there are suing to enjoin the new law that requires kindergarteners to be vaccinated even if it violates parents' religious beliefs.\"]\n"
     ]
    }
   ],
   "source": [
    "text_with_most_occurrence_of('now')"
   ]
  },
  {
   "cell_type": "markdown",
   "metadata": {},
   "source": [
    "Question 11\n",
    "Print out **lines containing words of the length asked**. We are sort of back to basics here, you just need to modify the regular expression of the first function (get_this_word(word)) so that it can take a number parameter for the length of characters in a word."
   ]
  },
  {
   "cell_type": "code",
   "execution_count": 101,
   "metadata": {},
   "outputs": [],
   "source": [
    "def lines_with_words_this_length(length):\n",
    "    my_regex = r\"\\b\\w{\" + length + r\"}\\b\"\n",
    "    for text in all_texts:\n",
    "        result = [line for line in text['lines'] if re.search(my_regex, line, re.IGNORECASE)]\n",
    "        if len(result) > 0:\n",
    "            print(text['title'])\n",
    "            [print(line) for line in result]\n",
    "            print(\"------------\")"
   ]
  },
  {
   "cell_type": "code",
   "execution_count": 109,
   "metadata": {},
   "outputs": [
    {
     "name": "stdout",
     "output_type": "stream",
     "text": [
      "Ingraham Angle, August 19\n",
      "When the Taliban terrorizes Afghans, it's an Islamic fundamentalist extremist cult, after all, come on.\n",
      "------------\n",
      "Ingraham Angle, July 8\n",
      "As \"The Angle\" revealed last night, the Biden administration is about to take their pressure campaign to your doorstep.\n",
      "Missouri's Governor Mike Parson politely told the feds to take their vaccine evangelization elsewhere. \n",
      "------------\n",
      "Ingraham Angle, July 27\n",
      "Now, it turns out Biden's administration six months in is itself already out of gas.\n",
      "------------\n"
     ]
    }
   ],
   "source": [
    "lines_with_words_this_length('14')"
   ]
  },
  {
   "cell_type": "markdown",
   "metadata": {
    "collapsed": true
   },
   "source": [
    "**Final question:** in this cell, describe two functions that you would like to write, not ones that you're able to write, but ones you think would be useful or interesting or fun, or might bring greater insight into a corpus of text. If you feel like trying to write it, go-ahead!"
   ]
  },
  {
   "cell_type": "code",
   "execution_count": null,
   "metadata": {},
   "outputs": [],
   "source": [
    "# I would like to write a function that\n",
    "# loops through all of Ingraham's monologues for the past two years \n",
    "# and finds the frequency of references to violence or other\n",
    "# fear-inducing words.\n",
    "\n",
    "# I would like to write a function that\n",
    "# loops through the past two years' worth of monologues\n",
    "# and finds the frequency of words in the lines immediately\n",
    "# surrounding mentions of children."
   ]
  }
 ],
 "metadata": {
  "kernelspec": {
   "display_name": "Python 3 (ipykernel)",
   "language": "python",
   "name": "python3"
  },
  "language_info": {
   "codemirror_mode": {
    "name": "ipython",
    "version": 3
   },
   "file_extension": ".py",
   "mimetype": "text/x-python",
   "name": "python",
   "nbconvert_exporter": "python",
   "pygments_lexer": "ipython3",
   "version": "3.9.7"
  }
 },
 "nbformat": 4,
 "nbformat_minor": 2
}
